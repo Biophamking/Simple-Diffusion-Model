{
 "cells": [
  {
   "cell_type": "code",
   "execution_count": 1,
   "metadata": {},
   "outputs": [],
   "source": [
    "import os\n",
    "from PIL import Image, ImageDraw, ImageFont\n",
    "\n",
    "# Define image size\n",
    "size = 128\n",
    "\n",
    "out_dir = './data/char'\n",
    "font_dir = './fonts'\n",
    "\n",
    "# Create an Image object with white background\n",
    "img = Image.new(\"1\", (size, size), color='white')\n",
    "\n",
    "# Create a Draw object\n",
    "d = ImageDraw.Draw(img)\n",
    "\n",
    "char_range = (65, 73)\n",
    "\n",
    "for char_code in range(char_range[0], char_range[1]):\n",
    "    char_dir = f'{out_dir}/{char_code}/'\n",
    "    if not os.path.exists(char_dir):\n",
    "        os.mkdir(char_dir)\n",
    "\n",
    "for font_file in os.scandir(font_dir):\n",
    "    font = ImageFont.truetype(font_file.path, size)\n",
    "    for char_code in range(char_range[0], char_range[1]):\n",
    "        char_dir = f'{out_dir}/{char_code}/'\n",
    "        char = chr(char_code)\n",
    "        # Get text size\n",
    "        left, top, right, bottom = d.textbbox((0, 0), text=char, font=font)\n",
    "\n",
    "        # Calculate text position\n",
    "        x = (size - (right-left)) // 2 - left\n",
    "        y = (size - (bottom-top)) // 2 - top\n",
    "\n",
    "        # Draw text on the image\n",
    "        d.rectangle([0, 0, size, size], fill=\"white\")  # type: ignore\n",
    "        d.text((x, y), char, font=font, fill=\"black\")\n",
    "        # display(img)\n",
    "        # Save image\n",
    "        font_name = font.getname()[0]\n",
    "        img.save(f'{char_dir}/{font_name}.png')"
   ]
  }
 ],
 "metadata": {
  "kernelspec": {
   "display_name": "py-gpu",
   "language": "python",
   "name": "python3"
  },
  "language_info": {
   "codemirror_mode": {
    "name": "ipython",
    "version": 3
   },
   "file_extension": ".py",
   "mimetype": "text/x-python",
   "name": "python",
   "nbconvert_exporter": "python",
   "pygments_lexer": "ipython3",
   "version": "3.9.16"
  },
  "orig_nbformat": 4
 },
 "nbformat": 4,
 "nbformat_minor": 2
}
